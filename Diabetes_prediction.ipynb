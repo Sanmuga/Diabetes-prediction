{
  "nbformat": 4,
  "nbformat_minor": 0,
  "metadata": {
    "colab": {
      "provenance": [],
      "authorship_tag": "ABX9TyOeV1csRPolUuOn9R5L39Ox",
      "include_colab_link": true
    },
    "kernelspec": {
      "name": "python3",
      "display_name": "Python 3"
    },
    "language_info": {
      "name": "python"
    }
  },
  "cells": [
    {
      "cell_type": "markdown",
      "metadata": {
        "id": "view-in-github",
        "colab_type": "text"
      },
      "source": [
        "<a href=\"https://colab.research.google.com/github/Sanmuga/Diabetes-prediction/blob/main/Diabetes_prediction.ipynb\" target=\"_parent\"><img src=\"https://colab.research.google.com/assets/colab-badge.svg\" alt=\"Open In Colab\"/></a>"
      ]
    },
    {
      "cell_type": "code",
      "execution_count": null,
      "metadata": {
        "id": "3ZBpRKUKeZNZ"
      },
      "outputs": [],
      "source": [
        "pip install pandas numpy"
      ]
    },
    {
      "cell_type": "code",
      "source": [
        "pip install seaborn"
      ],
      "metadata": {
        "id": "M_PzjX9rf_sX"
      },
      "execution_count": 3,
      "outputs": []
    },
    {
      "cell_type": "code",
      "source": [
        "pip install scikit-learn"
      ],
      "metadata": {
        "id": "e3iBTvJFfRkr"
      },
      "execution_count": null,
      "outputs": []
    },
    {
      "cell_type": "code",
      "source": [
        "import pandas as pd\n",
        "import numpy as np\n",
        "from sklearn.model_selection import train_test_split\n",
        "from sklearn.ensemble import RandomForestClassifier\n",
        "from sklearn.metrics import accuracy_score, classification_report, confusion_matrix"
      ],
      "metadata": {
        "id": "GwZneTtDfXXM"
      },
      "execution_count": 12,
      "outputs": []
    },
    {
      "cell_type": "code",
      "source": [
        "# Load the diabetes dataset\n",
        "file_path = '/content/diabetes.csv'  # Replace with the actual file path\n",
        "df = pd.read_csv(file_path)"
      ],
      "metadata": {
        "id": "STZyLE2mw81Q"
      },
      "execution_count": 7,
      "outputs": []
    },
    {
      "cell_type": "code",
      "source": [
        "# Split the dataset into features (X) and target (y)\n",
        "X = df.drop('Outcome', axis=1)\n",
        "y = df['Outcome']"
      ],
      "metadata": {
        "id": "NVZ9jFYuxAH7"
      },
      "execution_count": 8,
      "outputs": []
    },
    {
      "cell_type": "code",
      "source": [
        "# Split the data into training and testing sets\n",
        "X_train, X_test, y_train, y_test = train_test_split(X, y, test_size=0.2, random_state=42)"
      ],
      "metadata": {
        "id": "ZlWgpjh1xD_t"
      },
      "execution_count": 9,
      "outputs": []
    },
    {
      "cell_type": "code",
      "source": [
        "# Create and train the Random Forest model\n",
        "rfc = RandomForestClassifier(n_estimators=200, random_state=42)\n",
        "rfc.fit(X_train, y_train)\n",
        "\n",
        "# Function to predict diabetes based on user input\n",
        "def predict_diabetes(user_input):\n",
        "    user_data = [user_input]\n",
        "    predicted_outcome = rfc.predict(user_data)\n",
        "\n",
        "    if predicted_outcome[0] == 0:\n",
        "        return \"The model predicts that the user is not diabetic.\"\n",
        "    else:\n",
        "        return \"The model predicts that the user is likely to be diabetic.\"\n"
      ],
      "metadata": {
        "id": "FwHXX6X8xG9q"
      },
      "execution_count": 10,
      "outputs": []
    },
    {
      "cell_type": "code",
      "source": [
        "# Get user input for diabetes prediction\n",
        "print(\"Please provide the following information:\")\n",
        "pregnancies = int(input(\"Number of Pregnancies: \"))\n",
        "glucose = int(input(\"Glucose level: \"))\n",
        "blood_pressure = int(input(\"Blood Pressure: \"))\n",
        "skin_thickness = int(input(\"Skin Thickness: \"))\n",
        "insulin = int(input(\"Insulin level: \"))\n",
        "bmi = float(input(\"BMI: \"))\n",
        "diabetes_pedigree = float(input(\"Diabetes Pedigree Function: \"))\n",
        "age = int(input(\"Age: \"))\n",
        "\n",
        "\n",
        "# Predict diabetes for the user based on input\n",
        "user_input_data = [pregnancies, glucose, blood_pressure, skin_thickness,\n",
        "                   insulin, bmi, diabetes_pedigree, age]\n",
        "\n",
        "prediction = predict_diabetes(user_input_data)\n",
        "print(prediction)\n"
      ],
      "metadata": {
        "colab": {
          "base_uri": "https://localhost:8080/"
        },
        "id": "r2_mhl1ixKK0",
        "outputId": "01483235-4ee8-4481-bafc-582ae63f0664"
      },
      "execution_count": 13,
      "outputs": [
        {
          "output_type": "stream",
          "name": "stdout",
          "text": [
            "Please provide the following information:\n",
            "Number of Pregnancies: 2\n",
            "Glucose level: 120\n",
            "Blood Pressure: 70\n",
            "Skin Thickness: 25\n",
            "Insulin level: 100\n",
            "BMI: 28.5\n",
            "Diabetes Pedigree Function: 0.45\n",
            "Age: 35\n",
            "The model predicts that the user is not diabetic.\n"
          ]
        },
        {
          "output_type": "stream",
          "name": "stderr",
          "text": [
            "/usr/local/lib/python3.10/dist-packages/sklearn/base.py:439: UserWarning: X does not have valid feature names, but RandomForestClassifier was fitted with feature names\n",
            "  warnings.warn(\n"
          ]
        }
      ]
    }
  ]
}